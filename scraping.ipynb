{
  "nbformat": 4,
  "nbformat_minor": 0,
  "metadata": {
    "colab": {
      "name": "scraping.ipynb",
      "provenance": [],
      "authorship_tag": "ABX9TyPwcpCOBUIsS+HJvy+hs+WK",
      "include_colab_link": true
    },
    "kernelspec": {
      "name": "python3",
      "display_name": "Python 3"
    },
    "language_info": {
      "name": "python"
    }
  },
  "cells": [
    {
      "cell_type": "markdown",
      "metadata": {
        "id": "view-in-github",
        "colab_type": "text"
      },
      "source": [
        "<a href=\"https://colab.research.google.com/github/Ishi-Ooi-Shinrin/programming_init/blob/main/scraping.ipynb\" target=\"_parent\"><img src=\"https://colab.research.google.com/assets/colab-badge.svg\" alt=\"Open In Colab\"/></a>"
      ]
    },
    {
      "cell_type": "code",
      "execution_count": 5,
      "metadata": {
        "id": "qT-Rs0wqJjO5"
      },
      "outputs": [],
      "source": [
        "#モジュールインポート\n",
        "from bs4 import BeautifulSoup\n",
        "import requests\n",
        "import random"
      ]
    },
    {
      "cell_type": "code",
      "source": [
        "#htmlを取得\n",
        "load_url = \"http://chugokugo-script.net/tango/level2/doushi.html\"\n",
        "html = requests.get(load_url)\n",
        "soup = BeautifulSoup(html.content, \"html.parser\")"
      ],
      "metadata": {
        "id": "xA65oty0LqD-"
      },
      "execution_count": 2,
      "outputs": []
    },
    {
      "cell_type": "code",
      "source": [
        "#単語、意味、ピンインを取得\n",
        "words = soup.find_all(class_=\"divBunruiC\")\n",
        "meaning = soup.find_all(class_=\"divBunruiN\")\n",
        "pinin = soup.find_all(class_=\"divBunruiP\")"
      ],
      "metadata": {
        "id": "IvQLbnUUMYe7"
      },
      "execution_count": 8,
      "outputs": []
    },
    {
      "cell_type": "code",
      "source": [
        "#ランダムで１つ取得\n",
        "row = random.randint(1, len(words))"
      ],
      "metadata": {
        "id": "41XqesbLe1VP"
      },
      "execution_count": 6,
      "outputs": []
    },
    {
      "cell_type": "code",
      "source": [
        "print(words[row].text)\n",
        "print(meaning[row].text)\n",
        "print(pinin[row].text)"
      ],
      "metadata": {
        "colab": {
          "base_uri": "https://localhost:8080/"
        },
        "id": "VV4gdJF0fyU5",
        "outputId": "182a8a18-e07b-434b-b07b-d77e0ae2da4d"
      },
      "execution_count": 9,
      "outputs": [
        {
          "output_type": "stream",
          "name": "stdout",
          "text": [
            "找\n",
            "さがす\n",
            "zhǎo\n"
          ]
        }
      ]
    },
    {
      "cell_type": "code",
      "source": [
        "#全部表示\n",
        "for word in words:\n",
        "  print(word.text)"
      ],
      "metadata": {
        "id": "kvrf98IreBX0"
      },
      "execution_count": null,
      "outputs": []
    }
  ]
}