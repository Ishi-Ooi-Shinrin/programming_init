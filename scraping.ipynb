{
  "nbformat": 4,
  "nbformat_minor": 0,
  "metadata": {
    "colab": {
      "name": "scraping.ipynb",
      "provenance": [],
      "authorship_tag": "ABX9TyP4r3U35TtHRXApBN7ujqsY",
      "include_colab_link": true
    },
    "kernelspec": {
      "name": "python3",
      "display_name": "Python 3"
    },
    "language_info": {
      "name": "python"
    }
  },
  "cells": [
    {
      "cell_type": "markdown",
      "metadata": {
        "id": "view-in-github",
        "colab_type": "text"
      },
      "source": [
        "<a href=\"https://colab.research.google.com/github/Ishi-Ooi-Shinrin/programming_init/blob/main/scraping.ipynb\" target=\"_parent\"><img src=\"https://colab.research.google.com/assets/colab-badge.svg\" alt=\"Open In Colab\"/></a>"
      ]
    },
    {
      "cell_type": "markdown",
      "source": [
        "### 基本的な方法\n",
        "###### 情報を取得したいサイトを開いた状態で“Ctrl + Shift + i”のショートカットを押す\n",
        "###### 開発ツールが開かれる\n",
        "###### HTMLは様々なタグ囲まれて情報が格納されているが、知りたい情報がどこにあるかを調査する\n",
        "###### HTMLの知識が少しだけ必要。最初はわけがわからないかもしれないが、慣れてしまえばそんなに難しくはない"
      ],
      "metadata": {
        "id": "woVpC1dvbTbm"
      }
    },
    {
      "cell_type": "markdown",
      "source": [
        "### Yahooニュースの記事タイトル一覧を取得"
      ],
      "metadata": {
        "id": "u0N02t9fWx9W"
      }
    },
    {
      "cell_type": "code",
      "source": [
        "#モジュールインポート\n",
        "from bs4 import BeautifulSoup\n",
        "import requests\n",
        "import random"
      ],
      "metadata": {
        "id": "ndHTFRwGXBbZ"
      },
      "execution_count": 1,
      "outputs": []
    },
    {
      "cell_type": "code",
      "source": [
        "load_url = \"https://news.yahoo.co.jp/\"\n",
        "html = requests.get(load_url)\n",
        "soup = BeautifulSoup(html.content, \"html.parser\")"
      ],
      "metadata": {
        "id": "7PKt7zudXOXr"
      },
      "execution_count": 2,
      "outputs": []
    },
    {
      "cell_type": "code",
      "source": [
        "# ニュース記事の入っている要素を取得してリストに格納 → テキスト部分のみをprintで表示\n",
        "news_list = soup.select(\".sc-dHaUqb div ul li a\")\n",
        "for news in news_list:\n",
        "  print(news.text)\n",
        "\n",
        "# 「もっと見る」などの余計な文字列が入ってしまうが、以下の記述だとより簡単に書ける\n",
        "# news_list = soup.find(class_ = \"sc-dHaUqb\")\n",
        "# for news in news_list.find_all('a'):\n",
        "#   print(news.text)"
      ],
      "metadata": {
        "id": "k1cETY_3XycB",
        "outputId": "323b43ce-676b-4c6e-bf7c-7265c3f1640e",
        "colab": {
          "base_uri": "https://localhost:8080/"
        }
      },
      "execution_count": 8,
      "outputs": [
        {
          "output_type": "stream",
          "name": "stdout",
          "text": [
            "期日前投票 3年前の参院選上回る\n",
            "全国の感染者 2日連続で5万人超え\n",
            "ウクライナ軍 南部で本格反攻準備\n",
            "京都 土師川が氾濫危険水位超え\n",
            "安倍氏 上腕部からの銃弾が致命傷\n",
            "川崎F 家長が芸術的バイシクル\n",
            "オリ・紅林の頭部に163km球が直撃\n",
            "ユーミン全国ツアー 15.7万人動員\n"
          ]
        }
      ]
    },
    {
      "cell_type": "markdown",
      "source": [
        "### 中国語の単語を１つ勉強するためのツール\n",
        "\n"
      ],
      "metadata": {
        "id": "0RNONrfJWdkm"
      }
    },
    {
      "cell_type": "code",
      "source": [
        "#htmlを取得\n",
        "load_url = \"http://chugokugo-script.net/tango/level2/doushi.html\"\n",
        "html = requests.get(load_url)\n",
        "soup = BeautifulSoup(html.content, \"html.parser\")"
      ],
      "metadata": {
        "id": "xA65oty0LqD-"
      },
      "execution_count": null,
      "outputs": []
    },
    {
      "cell_type": "code",
      "source": [
        "#単語、意味、ピンインを取得\n",
        "words = soup.find_all(class_=\"divBunruiC\")\n",
        "meaning = soup.find_all(class_=\"divBunruiN\")\n",
        "pinin = soup.find_all(class_=\"divBunruiP\")"
      ],
      "metadata": {
        "id": "IvQLbnUUMYe7"
      },
      "execution_count": null,
      "outputs": []
    },
    {
      "cell_type": "code",
      "source": [
        "#ランダムで１つ取得\n",
        "row = random.randint(1, len(words))"
      ],
      "metadata": {
        "id": "41XqesbLe1VP"
      },
      "execution_count": null,
      "outputs": []
    },
    {
      "cell_type": "code",
      "source": [
        "print(words[row].text)\n",
        "print(meaning[row].text)\n",
        "print(pinin[row].text)"
      ],
      "metadata": {
        "colab": {
          "base_uri": "https://localhost:8080/"
        },
        "id": "VV4gdJF0fyU5",
        "outputId": "182a8a18-e07b-434b-b07b-d77e0ae2da4d"
      },
      "execution_count": null,
      "outputs": [
        {
          "output_type": "stream",
          "name": "stdout",
          "text": [
            "找\n",
            "さがす\n",
            "zhǎo\n"
          ]
        }
      ]
    },
    {
      "cell_type": "code",
      "source": [
        "#全部表示\n",
        "for word in words:\n",
        "  print(word.text)"
      ],
      "metadata": {
        "id": "kvrf98IreBX0"
      },
      "execution_count": null,
      "outputs": []
    }
  ]
}