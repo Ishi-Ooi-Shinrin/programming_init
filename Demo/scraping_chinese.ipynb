{
  "nbformat": 4,
  "nbformat_minor": 0,
  "metadata": {
    "colab": {
      "name": "Untitled1.ipynb",
      "provenance": [],
      "authorship_tag": "ABX9TyPnoTwsJKHsvH3xzoR2X7Iu",
      "include_colab_link": true
    },
    "kernelspec": {
      "name": "python3",
      "display_name": "Python 3"
    },
    "language_info": {
      "name": "python"
    }
  },
  "cells": [
    {
      "cell_type": "markdown",
      "metadata": {
        "id": "view-in-github",
        "colab_type": "text"
      },
      "source": [
        "<a href=\"https://colab.research.google.com/github/Ishi-Ooi-Shinrin/programming_init/blob/main/Demo/scraping_chinese.ipynb\" target=\"_parent\"><img src=\"https://colab.research.google.com/assets/colab-badge.svg\" alt=\"Open In Colab\"/></a>"
      ]
    },
    {
      "cell_type": "code",
      "execution_count": 3,
      "metadata": {
        "id": "qT-Rs0wqJjO5"
      },
      "outputs": [],
      "source": [
        "from bs4 import BeautifulSoup\n",
        "import requests"
      ]
    },
    {
      "cell_type": "code",
      "source": [
        "load_url = \"http://chugokugo-script.net/tango/level2/doushi.html\"\n",
        "html = requests.get(load_url)\n",
        "soup = BeautifulSoup(html.content, \"html.parser\")"
      ],
      "metadata": {
        "id": "xA65oty0LqD-"
      },
      "execution_count": 5,
      "outputs": []
    },
    {
      "cell_type": "code",
      "source": [
        "words = soup.find_all(class_=\"divBunruiC\")\n",
        "\n",
        "for word in words:\n",
        "  print(word.text)"
      ],
      "metadata": {
        "colab": {
          "base_uri": "https://localhost:8080/"
        },
        "id": "IvQLbnUUMYe7",
        "outputId": "8648dac7-c56f-4390-9947-96ca5315fad9"
      },
      "execution_count": 6,
      "outputs": [
        {
          "output_type": "stream",
          "name": "stdout",
          "text": [
            "躺\n",
            "爬\n",
            "提\n",
            "拿\n",
            "带\n",
            "接\n",
            "递\n",
            "发\n",
            "找\n",
            "出现\n",
            "逛\n",
            "包\n",
            "推\n",
            "放\n",
            "搬\n",
            "送\n",
            "偷\n",
            "洗\n",
            "办\n",
            "见\n",
            "见面\n",
            "等\n",
            "祝\n",
            "欢迎\n",
            "商量\n",
            "感谢\n",
            "帮助\n",
            "帮\n",
            "帮忙\n",
            "停\n",
            "停车\n",
            "出国\n",
            "午睡\n",
            "迟到\n",
            "放假\n",
            "住\n",
            "洗澡\n",
            "打扫\n",
            "坏\n",
            "收拾\n",
            "用\n",
            "使用\n",
            "开始\n",
            "完\n",
            "回信\n",
            "寄\n",
            "借\n",
            "听说\n",
            "休息\n",
            "讨论\n",
            "团结\n",
            "实现\n",
            "改变\n",
            "出差\n",
            "打工\n",
            "挣\n",
            "出口\n",
            "下课\n",
            "练习\n",
            "考\n",
            "记\n",
            "听写\n",
            "背\n",
            "说明\n",
            "进步\n",
            "画\n",
            "翻译\n",
            "跳舞\n",
            "旅游\n",
            "抽烟\n",
            "跳\n",
            "散步\n",
            "滑雪\n",
            "锻炼\n",
            "感冒\n",
            "发烧\n",
            "打针\n",
            "知道\n",
            "认识\n",
            "以为\n",
            "觉得\n",
            "发现\n",
            "希望\n",
            "打算\n",
            "哭\n",
            "爱\n",
            "努力\n",
            "放心\n",
            "感动\n",
            "失望\n",
            "生气\n",
            "需要\n",
            "小心\n",
            "注意\n",
            "当\n",
            "好像\n",
            "应该\n",
            "会\n",
            "敢\n"
          ]
        }
      ]
    }
  ]
}