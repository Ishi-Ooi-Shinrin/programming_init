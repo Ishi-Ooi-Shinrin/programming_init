{
  "nbformat": 4,
  "nbformat_minor": 0,
  "metadata": {
    "colab": {
      "name": "Python_startup_answer.ipynb",
      "provenance": [],
      "collapsed_sections": [],
      "authorship_tag": "ABX9TyPUWHTgSwwQc4152j81QaXE",
      "include_colab_link": true
    },
    "kernelspec": {
      "name": "python3",
      "display_name": "Python 3"
    },
    "language_info": {
      "name": "python"
    }
  },
  "cells": [
    {
      "cell_type": "markdown",
      "metadata": {
        "id": "view-in-github",
        "colab_type": "text"
      },
      "source": [
        "<a href=\"https://colab.research.google.com/github/Ishi-Ooi-Shinrin/programming_init/blob/main/Python_startup_answer.ipynb\" target=\"_parent\"><img src=\"https://colab.research.google.com/assets/colab-badge.svg\" alt=\"Open In Colab\"/></a>"
      ]
    },
    {
      "cell_type": "markdown",
      "source": [
        "# Python 基本文法"
      ],
      "metadata": {
        "id": "-gfTcI57fpEt"
      }
    },
    {
      "cell_type": "markdown",
      "source": [
        "### Hello World\n",
        "###### ・ コンソールに「Hello World」と表示させてみましょう\n",
        "######  　　print()でカッコ内の内容を表示します\n",
        "###### 　　文字列は””で囲む"
      ],
      "metadata": {
        "id": "Q9ur-h19f5JW"
      }
    },
    {
      "cell_type": "code",
      "execution_count": 1,
      "metadata": {
        "id": "DC1zk6xlfnsj",
        "colab": {
          "base_uri": "https://localhost:8080/"
        },
        "outputId": "1fbe1816-4483-4a22-8b3c-1983172567da"
      },
      "outputs": [
        {
          "output_type": "stream",
          "name": "stdout",
          "text": [
            "Hello World\n"
          ]
        }
      ],
      "source": [
        "print(\"Hello World\")"
      ]
    },
    {
      "cell_type": "markdown",
      "source": [
        "### コメント\n",
        "###### ・ 頭に#をつけることでコメントを残すことができます\n",
        "###### 　　 Ctrl + / のショートカットを使うと便利です"
      ],
      "metadata": {
        "id": "6fYXAx0f0rPk"
      }
    },
    {
      "cell_type": "code",
      "source": [
        "#print(\"コメント\")\n",
        "print(\"コメントじゃない\")"
      ],
      "metadata": {
        "colab": {
          "base_uri": "https://localhost:8080/"
        },
        "id": "pxy0swHI0yeS",
        "outputId": "d1ea48db-2e61-4a2d-c77c-9d43c828aa6e"
      },
      "execution_count": 37,
      "outputs": [
        {
          "output_type": "stream",
          "name": "stdout",
          "text": [
            "コメントじゃない\n"
          ]
        }
      ]
    },
    {
      "cell_type": "markdown",
      "source": [
        "### 四則演算\n",
        "###### ・ 以下のもの買いました。消費税10%だとして、いくらになる？\n",
        "###### 　 1個831円(税抜き)のブドウ：3個\n",
        "###### 　 1個130円(税抜き)のオレンジ：5個"
      ],
      "metadata": {
        "id": "q54ucHbHglsj"
      }
    },
    {
      "cell_type": "code",
      "source": [
        "grape_price = 831*3\n",
        "orange_price = 130*5\n",
        "\n",
        "total_price = grape_price + orange_price\n",
        "total_price_with_tax = total_price*1.1\n",
        "\n",
        "print(total_price_with_tax"
      ],
      "metadata": {
        "id": "9r6g2NH2fy7p",
        "colab": {
          "base_uri": "https://localhost:8080/"
        },
        "outputId": "2df40622-a7bb-479f-ad7e-5f5850a5c774"
      },
      "execution_count": 8,
      "outputs": [
        {
          "output_type": "stream",
          "name": "stdout",
          "text": [
            "3457.3\n"
          ]
        }
      ]
    },
    {
      "cell_type": "markdown",
      "source": [
        "### 関数の作成と使用\n",
        "###### ・ 値段と個数を入力すると、価格を計算してくれる関数を作成してみましょう\n",
        "###### ・ 作成した関数を使って、四則演算のときに行った計算をしてみましょう"
      ],
      "metadata": {
        "id": "-9qVhOQxh_7t"
      }
    },
    {
      "cell_type": "code",
      "source": [
        "def total_calc(price, num):\n",
        "  return(price * num)\n",
        "\n",
        "grape_price = total_calc(831,3)\n",
        "orange_price = total_calc(130,5)\n",
        "\n",
        "total = (grape_price + orange_price)*1.1\n",
        "\n",
        "print(total)"
      ],
      "metadata": {
        "id": "Sea9pZiTf4nB",
        "colab": {
          "base_uri": "https://localhost:8080/"
        },
        "outputId": "45416354-60d4-45b6-b6c7-a7f6af11f091"
      },
      "execution_count": 10,
      "outputs": [
        {
          "output_type": "stream",
          "name": "stdout",
          "text": [
            "3457.3\n",
            "\n"
          ]
        }
      ]
    },
    {
      "cell_type": "markdown",
      "source": [
        "### 商品表を作ろう\n",
        "###### ・ お店では、ブドウ、オレンジ、バナナ、イチゴを販売しているそうです\n",
        "###### ・これらの情報を商品表として記録しましょう\n"
      ],
      "metadata": {
        "id": "5UcOUocEzzgh"
      }
    },
    {
      "cell_type": "code",
      "source": [
        "fruit_list = (\"grape\",\"orange\", \"banana\", \"strawberry\")\n",
        "\n",
        "#printを使って確認\n",
        "print(fruit_list[0])\n",
        "print(fruit_list[1])\n",
        "print(fruit_list[2])\n",
        "print(fruit_list[3])"
      ],
      "metadata": {
        "colab": {
          "base_uri": "https://localhost:8080/"
        },
        "id": "Rl2Xgqwv0GV0",
        "outputId": "fb233544-02e4-4ac6-aa13-6b317abb34bc"
      },
      "execution_count": 36,
      "outputs": [
        {
          "output_type": "stream",
          "name": "stdout",
          "text": [
            "grape\n",
            "orange\n",
            "banana\n",
            "strawberry\n"
          ]
        }
      ]
    },
    {
      "cell_type": "markdown",
      "source": [
        "### 価格表を作ろう\n",
        "###### ・ 各フルーツの値段は以下の通りです\n",
        "###### 　 ブドウ：831円\n",
        "###### 　 オレンジ：130円\n",
        "###### 　 バナナ：100円\n",
        "###### 　 イチゴ：422円\n",
        "###### ・これらの情報を価格表として記録しましょう"
      ],
      "metadata": {
        "id": "rDwetJAIlSO1"
      }
    },
    {
      "cell_type": "code",
      "source": [
        "price_list = {\"grape\":831,\"orange\":130,\"banana\":100,\"strawberry\":422}\n",
        "\n",
        "#おまけ、先ほど作ったfruit_listを使用\n",
        "price_list2 = {fruit_list[0]:831,fruit_list[1]:130,fruit_list[2]:100,fruit_list[3]:422}\n",
        "\n",
        "print(price_list[\"grape\"])\n",
        "print(price_list[\"orange\"])\n",
        "print(price_list[\"banana\"])\n",
        "print(price_list[\"strawberry\"])"
      ],
      "metadata": {
        "id": "hQyt6SxzncJN",
        "colab": {
          "base_uri": "https://localhost:8080/"
        },
        "outputId": "9fcdece7-9388-44a2-d661-7c12a4abead9"
      },
      "execution_count": 34,
      "outputs": [
        {
          "output_type": "stream",
          "name": "stdout",
          "text": [
            "831\n",
            "130\n",
            "100\n",
            "422\n"
          ]
        }
      ]
    },
    {
      "cell_type": "markdown",
      "source": [
        "### 買い物リストを作ろう\n",
        "###### ・以下のものを買ってくるように言われました。\n",
        "###### 　 ブドウ：3個\n",
        "###### 　 オレンジ：5個\n",
        "###### 　 バナナ：2個\n",
        "###### 　 イチゴ：9個\n",
        "###### ・買い物リストを作成しておきましょう（作り方はさっきと同じ）"
      ],
      "metadata": {
        "id": "D1O_8DG3r72V"
      }
    },
    {
      "cell_type": "code",
      "source": [
        "kaimono_list = {\"grape\":3,\"orange\":5,\"banana\":2,\"strawberry\":9}\n",
        "\n",
        "print(kaimono_list[\"grape\"])\n",
        "print(kaimono_list[\"orange\"])\n",
        "print(kaimono_list[\"banana\"])\n",
        "print(kaimono_list[\"strawberry\"])"
      ],
      "metadata": {
        "colab": {
          "base_uri": "https://localhost:8080/"
        },
        "id": "L_4jxnxksZ3n",
        "outputId": "6ba7b15a-d19a-4139-e7a5-99339614e1de"
      },
      "execution_count": 15,
      "outputs": [
        {
          "output_type": "stream",
          "name": "stdout",
          "text": [
            "3\n",
            "5\n",
            "2\n",
            "9\n"
          ]
        }
      ]
    },
    {
      "cell_type": "markdown",
      "source": [
        "### 制御構文（for）\n",
        "###### ・ 買い物リストのものを購入します。\n",
        "###### ・for文を用いて、価格を計算してみよう"
      ],
      "metadata": {
        "id": "d0ZYfXx7i_96"
      }
    },
    {
      "cell_type": "code",
      "source": [
        "for fruit in fruit_list:\n",
        "  price = total_calc(price_list[fruit], kaimono_list[fruit])\n",
        "  print(fruit)\n",
        "  print(price)\n",
        "\n",
        "  total += price\n",
        "  \n",
        "print(\"合計金額\")\n",
        "print(total)"
      ],
      "metadata": {
        "id": "2t_tl1jHkNps",
        "colab": {
          "base_uri": "https://localhost:8080/"
        },
        "outputId": "7b01a5f1-58f7-4d90-d37d-549d94ca52d0"
      },
      "execution_count": 32,
      "outputs": [
        {
          "output_type": "stream",
          "name": "stdout",
          "text": [
            "grape\n",
            "2493\n",
            "orange\n",
            "650\n",
            "banana\n",
            "200\n",
            "strawberry\n",
            "3798\n",
            "合計金額\n",
            "14282\n"
          ]
        }
      ]
    },
    {
      "cell_type": "code",
      "source": [
        "#おまけ、fruit_listを作らなくても.keys()を用いることで、書くことができる\n",
        "total=0\n",
        "\n",
        "for fruit in price_list.keys():\n",
        "  price = total_calc(price_list[fruit], kaimono_list[fruit])\n",
        "  print(fruit)\n",
        "  print(price)\n",
        "  \n",
        "  total += price\n",
        "\n",
        "print(\"合計金額\")\n",
        "print(total)"
      ],
      "metadata": {
        "colab": {
          "base_uri": "https://localhost:8080/"
        },
        "id": "_dGHHhjLyhtX",
        "outputId": "66d1b8c8-d91a-488f-c1b8-3de4cde29f42"
      },
      "execution_count": 33,
      "outputs": [
        {
          "output_type": "stream",
          "name": "stdout",
          "text": [
            "grape\n",
            "2493\n",
            "orange\n",
            "650\n",
            "banana\n",
            "200\n",
            "strawberry\n",
            "3798\n",
            "合計金額\n",
            "7141\n"
          ]
        }
      ]
    },
    {
      "cell_type": "markdown",
      "source": [
        "### 制御構文（if）\n",
        "###### ・ 1000円の購入につき１枚くじ引きがもらえるそうです。\n",
        "###### ・if文を用いて、1000円以上購入しているか調べてみましょう\n",
        "###### ・超えている場合は、何枚もらえるか計算してみましょう"
      ],
      "metadata": {
        "id": "tEKf_-IpkO4V"
      }
    },
    {
      "cell_type": "code",
      "source": [
        "if(total >= 1000):\n",
        "  kujibiki = total/1000\n",
        "  print(\"以下の枚数もらえます\")\n",
        "  print(kujibiki)\n",
        "else:\n",
        "  print(\"1000円以下なのでもらえません\")\n",
        "\n",
        "# おまけ\n",
        "# kujibiki = total//1000\n",
        "# とすると小数点以下切り捨て"
      ],
      "metadata": {
        "colab": {
          "base_uri": "https://localhost:8080/"
        },
        "id": "XaWffi73zI1T",
        "outputId": "dc067a6c-22e0-47b4-f40f-e69ba7085725"
      },
      "execution_count": 40,
      "outputs": [
        {
          "output_type": "stream",
          "name": "stdout",
          "text": [
            "以下の枚数もらえます\n",
            "7\n"
          ]
        }
      ]
    },
    {
      "cell_type": "markdown",
      "source": [
        "### ライブラリの使用\n",
        "###### ・ くじびきを引いてみましょう\n",
        "###### ・random というライブラリを用いて、おみくじを引いてみましょう\n",
        "###### ・もらった枚数だけおみくじを引きます。あたり確率は10%です\n",
        "###### ・for文では、range()で指定した回数だけ処理を繰り返すことができます"
      ],
      "metadata": {
        "id": "uIkNNOY72urv"
      }
    },
    {
      "cell_type": "code",
      "source": [
        "import random\n",
        "\n",
        "for i in range(kujibiki):\n",
        "  if(random.random() <= 0.1 ):\n",
        "    print(\"大当たり！！\")\n",
        "  else:\n",
        "    print(\"はずれ～～\")\n"
      ],
      "metadata": {
        "colab": {
          "base_uri": "https://localhost:8080/"
        },
        "id": "tTqUNOJ73VSV",
        "outputId": "fec5dc27-fbb4-45f4-aad8-0283b234c409"
      },
      "execution_count": 42,
      "outputs": [
        {
          "output_type": "stream",
          "name": "stdout",
          "text": [
            "はずれ～～\n",
            "はずれ～～\n",
            "はずれ～～\n",
            "はずれ～～\n",
            "はずれ～～\n",
            "はずれ～～\n",
            "はずれ～～\n"
          ]
        }
      ]
    },
    {
      "cell_type": "markdown",
      "source": [
        "### やってみよう(演習)\n",
        "###### ・ ロケットを発射してみましょう\n",
        "###### ・ 10秒のカウントダウン後に発射するロケットを作ります"
      ],
      "metadata": {
        "id": "v3vw-OxU4aL8"
      }
    },
    {
      "cell_type": "markdown",
      "source": [
        "### Step1\n",
        "###### ・ for文を使用して、10秒カウントしてみましょう\n",
        "###### ・ 10秒カウントした後、「ignition!」と表示しましょう"
      ],
      "metadata": {
        "id": "1ZbG2s-g9bwD"
      }
    },
    {
      "cell_type": "code",
      "source": [
        "for i in range(10):\n",
        "  print(i)\n",
        "\n",
        "print(\"ignition!\")"
      ],
      "metadata": {
        "colab": {
          "base_uri": "https://localhost:8080/"
        },
        "id": "E3CACWdN4Z4s",
        "outputId": "40491c73-54a9-40c8-e875-3c42a9b4398e"
      },
      "execution_count": 45,
      "outputs": [
        {
          "output_type": "stream",
          "name": "stdout",
          "text": [
            "0\n",
            "1\n",
            "2\n",
            "3\n",
            "4\n",
            "5\n",
            "6\n",
            "7\n",
            "8\n",
            "9\n",
            "ignition!\n"
          ]
        }
      ]
    },
    {
      "cell_type": "markdown",
      "source": [
        "### Step2\n",
        "###### ・ 10秒のカウントを、カウントアップではなく、カウントダウンにしましょう\n",
        "###### ・ ついでに\"rocket()\"という関数にしておきましょう"
      ],
      "metadata": {
        "id": "DfhF4Hpf-m9I"
      }
    },
    {
      "cell_type": "code",
      "source": [
        "for i in range(10):\n",
        "  print(10 - i)\n",
        "\n",
        "print(\"ignition!\")"
      ],
      "metadata": {
        "colab": {
          "base_uri": "https://localhost:8080/"
        },
        "id": "lhhtiRIj-7ma",
        "outputId": "dcc4ad3d-c792-4e24-e3dd-c74dcdba651e"
      },
      "execution_count": 46,
      "outputs": [
        {
          "output_type": "stream",
          "name": "stdout",
          "text": [
            "10\n",
            "9\n",
            "8\n",
            "7\n",
            "6\n",
            "5\n",
            "4\n",
            "3\n",
            "2\n",
            "1\n",
            "ignition!\n"
          ]
        }
      ]
    },
    {
      "cell_type": "code",
      "source": [
        "#おまけ、以下の書き方も可能\n",
        "for i in range(10, 0, -1): # start, end , step\n",
        "    print(i)\n",
        "print(\"ignition\")"
      ],
      "metadata": {
        "colab": {
          "base_uri": "https://localhost:8080/"
        },
        "id": "LbdX7bql_EbB",
        "outputId": "d8c185b1-990b-412e-a026-0cf4c01e50f6"
      },
      "execution_count": 47,
      "outputs": [
        {
          "output_type": "stream",
          "name": "stdout",
          "text": [
            "10\n",
            "9\n",
            "8\n",
            "7\n",
            "6\n",
            "5\n",
            "4\n",
            "3\n",
            "2\n",
            "1\n",
            "ignition\n"
          ]
        }
      ]
    },
    {
      "cell_type": "markdown",
      "source": [
        "### Step3\n",
        "###### ・ 関数化しておきましょう\n",
        "###### ・ 引数に数字を渡して、渡した数字の数だけカウントするようにしてみましょう"
      ],
      "metadata": {
        "id": "Y94_9AzA_mEI"
      }
    },
    {
      "cell_type": "code",
      "source": [
        "def rocket(num):\n",
        "  for i in range(num):\n",
        "    print(num - i)\n",
        "  print(\"ignition!\")\n",
        "\n",
        "#作成した関数の実行\n",
        "rocket(10)"
      ],
      "metadata": {
        "colab": {
          "base_uri": "https://localhost:8080/"
        },
        "id": "MyCfBKbR_4Ly",
        "outputId": "bf1948e4-495b-4e8f-d552-df0a3e937e83"
      },
      "execution_count": 48,
      "outputs": [
        {
          "output_type": "stream",
          "name": "stdout",
          "text": [
            "10\n",
            "9\n",
            "8\n",
            "7\n",
            "6\n",
            "5\n",
            "4\n",
            "3\n",
            "2\n",
            "1\n",
            "ignition!\n"
          ]
        }
      ]
    },
    {
      "cell_type": "markdown",
      "source": [
        "### Step4\n",
        "###### ・ カウントダウンはちゃんと1秒ごとに行うようにしましょう\n",
        "###### ・ timeというライブラリをimportして使用します"
      ],
      "metadata": {
        "id": "H1nQxAUrATyF"
      }
    },
    {
      "cell_type": "code",
      "source": [
        "# 以下のように記入することで、1秒処理を止めることができます\n",
        "# time.sleep(1)\n",
        "\n",
        "import time \n",
        "\n",
        "def rocket(num):\n",
        "  for i in range(num):\n",
        "    print(num - i)\n",
        "    time.sleep(1)\n",
        "  print(\"ignition!\")\n",
        "\n",
        "#関数の実行\n",
        "rocket(10)"
      ],
      "metadata": {
        "colab": {
          "base_uri": "https://localhost:8080/"
        },
        "id": "CyPokVfzAotv",
        "outputId": "c6ea21b9-8a6f-4d23-f283-9b5daa40319e"
      },
      "execution_count": 49,
      "outputs": [
        {
          "output_type": "stream",
          "name": "stdout",
          "text": [
            "10\n",
            "9\n",
            "8\n",
            "7\n",
            "6\n",
            "5\n",
            "4\n",
            "3\n",
            "2\n",
            "1\n",
            "ignition!\n"
          ]
        }
      ]
    },
    {
      "cell_type": "markdown",
      "source": [
        "### Step5\n",
        "###### ・ カウントダウンをそれっぽくしてみましょう\n",
        "###### ・ tqdmというライブラリをimportして使用します"
      ],
      "metadata": {
        "id": "mg9i792VBT6L"
      }
    },
    {
      "cell_type": "code",
      "source": [
        "# 以下のように記載することでtqdmを使えるようにします\n",
        "# from tqdm import tqdm\n",
        "# for文を以下のように書き換えてみましょう\n",
        "# for i in tqdm(range(num)):\n",
        "\n",
        "import time \n",
        "from tqdm import tqdm\n",
        "\n",
        "def rocket(num):\n",
        "  for i in tqdm(range(num)):\n",
        "    time.sleep(1)\n",
        "  print(\"\\nignition!\")\n",
        "\n",
        "#関数の実行\n",
        "rocket(10)"
      ],
      "metadata": {
        "colab": {
          "base_uri": "https://localhost:8080/"
        },
        "id": "iSYuCUfeBmJW",
        "outputId": "338bab10-3f83-4669-d281-e1e55ee04158"
      },
      "execution_count": 53,
      "outputs": [
        {
          "output_type": "stream",
          "name": "stderr",
          "text": [
            "100%|██████████| 10/10 [00:10<00:00,  1.00s/it]"
          ]
        },
        {
          "output_type": "stream",
          "name": "stdout",
          "text": [
            "\n",
            "ignition!\n"
          ]
        },
        {
          "output_type": "stream",
          "name": "stderr",
          "text": [
            "\n"
          ]
        }
      ]
    }
  ]
}