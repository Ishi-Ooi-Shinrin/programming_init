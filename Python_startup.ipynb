{
  "nbformat": 4,
  "nbformat_minor": 0,
  "metadata": {
    "colab": {
      "name": "Python_startup",
      "provenance": [],
      "collapsed_sections": [],
      "authorship_tag": "ABX9TyMkEm4m+vdjr89kXLemvnWQ",
      "include_colab_link": true
    },
    "kernelspec": {
      "name": "python3",
      "display_name": "Python 3"
    },
    "language_info": {
      "name": "python"
    }
  },
  "cells": [
    {
      "cell_type": "markdown",
      "metadata": {
        "id": "view-in-github",
        "colab_type": "text"
      },
      "source": [
        "<a href=\"https://colab.research.google.com/github/Ishi-Ooi-Shinrin/programming_init/blob/main/Python_startup.ipynb\" target=\"_parent\"><img src=\"https://colab.research.google.com/assets/colab-badge.svg\" alt=\"Open In Colab\"/></a>"
      ]
    },
    {
      "cell_type": "markdown",
      "source": [
        "# Python 基本文法"
      ],
      "metadata": {
        "id": "-gfTcI57fpEt"
      }
    },
    {
      "cell_type": "markdown",
      "source": [
        "### Hello World\n",
        "###### ・ コンソールに「Hello World」と表示させてみましょう\n",
        "######  　　print()でカッコ内の内容を表示します\n",
        "###### 　　文字列は””で囲む"
      ],
      "metadata": {
        "id": "Q9ur-h19f5JW"
      }
    },
    {
      "cell_type": "code",
      "execution_count": null,
      "metadata": {
        "id": "DC1zk6xlfnsj"
      },
      "outputs": [],
      "source": [
        ""
      ]
    },
    {
      "cell_type": "markdown",
      "source": [
        "### コメント\n",
        "###### ・ 頭に#をつけることでコメントを残すことができます\n",
        "###### 　　 Ctrl + / のショートカットを使うと便利です"
      ],
      "metadata": {
        "id": "6fYXAx0f0rPk"
      }
    },
    {
      "cell_type": "code",
      "source": [
        "#print(\"コメント\")\n",
        "print(\"コメントじゃない\")"
      ],
      "metadata": {
        "colab": {
          "base_uri": "https://localhost:8080/"
        },
        "id": "pxy0swHI0yeS",
        "outputId": "b0f37888-118a-4892-911f-85b8e7fd03d7"
      },
      "execution_count": 1,
      "outputs": [
        {
          "output_type": "stream",
          "name": "stdout",
          "text": [
            "コメントじゃない\n"
          ]
        }
      ]
    },
    {
      "cell_type": "markdown",
      "source": [
        "### 四則演算\n",
        "###### ・ 以下のもの買いました。消費税10%だとして、いくらになる？\n",
        "###### 　 1個831円(税抜き)のブドウ：3個\n",
        "###### 　 1個130円(税抜き)のオレンジ：5個"
      ],
      "metadata": {
        "id": "q54ucHbHglsj"
      }
    },
    {
      "cell_type": "code",
      "source": [
        ""
      ],
      "metadata": {
        "id": "9r6g2NH2fy7p"
      },
      "execution_count": 1,
      "outputs": []
    },
    {
      "cell_type": "markdown",
      "source": [
        "### 関数の作成と使用\n",
        "###### ・ 値段と個数を入力すると、価格を計算してくれる関数を作成してみましょう\n",
        "###### ・ 作成した関数を使って、四則演算のときに行った計算をしてみましょう"
      ],
      "metadata": {
        "id": "-9qVhOQxh_7t"
      }
    },
    {
      "cell_type": "code",
      "source": [
        ""
      ],
      "metadata": {
        "id": "Sea9pZiTf4nB"
      },
      "execution_count": 1,
      "outputs": []
    },
    {
      "cell_type": "markdown",
      "source": [
        "### 商品表を作ろう\n",
        "###### ・ お店では、ブドウ、オレンジ、バナナ、イチゴを販売しているそうです\n",
        "###### ・これらの情報を商品表として記録しましょう\n"
      ],
      "metadata": {
        "id": "5UcOUocEzzgh"
      }
    },
    {
      "cell_type": "code",
      "source": [
        ""
      ],
      "metadata": {
        "id": "Rl2Xgqwv0GV0"
      },
      "execution_count": 1,
      "outputs": []
    },
    {
      "cell_type": "markdown",
      "source": [
        "### 価格表を作ろう\n",
        "###### ・ 各フルーツの値段は以下の通りです\n",
        "###### 　 ブドウ：831円\n",
        "###### 　 オレンジ：130円\n",
        "###### 　 バナナ：100円\n",
        "###### 　 イチゴ：422円\n",
        "###### ・これらの情報を価格表として記録しましょう"
      ],
      "metadata": {
        "id": "rDwetJAIlSO1"
      }
    },
    {
      "cell_type": "code",
      "source": [
        ""
      ],
      "metadata": {
        "id": "hQyt6SxzncJN"
      },
      "execution_count": 1,
      "outputs": []
    },
    {
      "cell_type": "markdown",
      "source": [
        "### 買い物リストを作ろう\n",
        "###### ・以下のものを買ってくるように言われました。\n",
        "###### 　 ブドウ：3個\n",
        "###### 　 オレンジ：5個\n",
        "###### 　 バナナ：2個\n",
        "###### 　 イチゴ：9個\n",
        "###### ・買い物リストを作成しておきましょう（作り方はさっきと同じ）"
      ],
      "metadata": {
        "id": "D1O_8DG3r72V"
      }
    },
    {
      "cell_type": "code",
      "source": [
        ""
      ],
      "metadata": {
        "id": "L_4jxnxksZ3n"
      },
      "execution_count": 1,
      "outputs": []
    },
    {
      "cell_type": "markdown",
      "source": [
        "### 制御構文（for）\n",
        "###### ・ 買い物リストのものを購入します。\n",
        "###### ・for文を用いて、価格を計算してみよう"
      ],
      "metadata": {
        "id": "d0ZYfXx7i_96"
      }
    },
    {
      "cell_type": "code",
      "source": [
        ""
      ],
      "metadata": {
        "id": "2t_tl1jHkNps"
      },
      "execution_count": 1,
      "outputs": []
    },
    {
      "cell_type": "code",
      "source": [
        ""
      ],
      "metadata": {
        "id": "_dGHHhjLyhtX"
      },
      "execution_count": 1,
      "outputs": []
    },
    {
      "cell_type": "markdown",
      "source": [
        "### 制御構文（if）\n",
        "###### ・ 1000円の購入につき１枚くじ引きがもらえるそうです。\n",
        "###### ・if文を用いて、1000円以上購入しているか調べてみましょう\n",
        "###### ・超えている場合は、何枚もらえるか計算してみましょう"
      ],
      "metadata": {
        "id": "tEKf_-IpkO4V"
      }
    },
    {
      "cell_type": "code",
      "source": [
        ""
      ],
      "metadata": {
        "id": "XaWffi73zI1T"
      },
      "execution_count": 1,
      "outputs": []
    },
    {
      "cell_type": "markdown",
      "source": [
        "### ライブラリの使用\n",
        "###### ・ くじびきを引いてみましょう\n",
        "###### ・random というライブラリを用いて、おみくじを引いてみましょう\n",
        "###### ・もらった枚数だけおみくじを引きます。あたり確率は10%です\n",
        "###### ・for文では、range()で指定した回数だけ処理を繰り返すことができます"
      ],
      "metadata": {
        "id": "uIkNNOY72urv"
      }
    },
    {
      "cell_type": "code",
      "source": [
        "\n"
      ],
      "metadata": {
        "id": "tTqUNOJ73VSV"
      },
      "execution_count": 1,
      "outputs": []
    },
    {
      "cell_type": "markdown",
      "source": [
        "### やってみよう(演習)\n",
        "###### ・ ロケットを発射してみましょう\n",
        "###### ・ 10秒のカウントダウン後に発射するロケットを作ります"
      ],
      "metadata": {
        "id": "v3vw-OxU4aL8"
      }
    },
    {
      "cell_type": "markdown",
      "source": [
        "### Step1\n",
        "###### ・ for文を使用して、10秒カウントしてみましょう\n",
        "###### ・ 10秒カウントした後、「ignition!」と表示しましょう"
      ],
      "metadata": {
        "id": "1ZbG2s-g9bwD"
      }
    },
    {
      "cell_type": "code",
      "source": [
        ""
      ],
      "metadata": {
        "id": "E3CACWdN4Z4s"
      },
      "execution_count": 1,
      "outputs": []
    },
    {
      "cell_type": "markdown",
      "source": [
        "### Step2\n",
        "###### ・ 10秒のカウントを、カウントアップではなく、カウントダウンにしましょう\n",
        "###### ・ ついでに\"rocket()\"という関数にしておきましょう"
      ],
      "metadata": {
        "id": "DfhF4Hpf-m9I"
      }
    },
    {
      "cell_type": "code",
      "source": [
        ""
      ],
      "metadata": {
        "id": "lhhtiRIj-7ma"
      },
      "execution_count": 1,
      "outputs": []
    },
    {
      "cell_type": "code",
      "source": [
        ""
      ],
      "metadata": {
        "id": "LbdX7bql_EbB"
      },
      "execution_count": 1,
      "outputs": []
    },
    {
      "cell_type": "markdown",
      "source": [
        "### Step3\n",
        "###### ・ 関数化しておきましょう\n",
        "###### ・ 引数に数字を渡して、渡した数字の数だけカウントするようにしてみましょう"
      ],
      "metadata": {
        "id": "Y94_9AzA_mEI"
      }
    },
    {
      "cell_type": "code",
      "source": [
        ""
      ],
      "metadata": {
        "id": "MyCfBKbR_4Ly"
      },
      "execution_count": 1,
      "outputs": []
    },
    {
      "cell_type": "markdown",
      "source": [
        "### Step4\n",
        "###### ・ カウントダウンはちゃんと1秒ごとに行うようにしましょう\n",
        "###### ・ timeというライブラリをimportして使用します"
      ],
      "metadata": {
        "id": "H1nQxAUrATyF"
      }
    },
    {
      "cell_type": "code",
      "source": [
        "# 以下のように記入することで、1秒処理を止めることができます\n",
        "# time.sleep(1)\n",
        "\n"
      ],
      "metadata": {
        "id": "CyPokVfzAotv"
      },
      "execution_count": 2,
      "outputs": []
    },
    {
      "cell_type": "markdown",
      "source": [
        "### Step5\n",
        "###### ・ カウントダウンをそれっぽくしてみましょう\n",
        "###### ・ tqdmというライブラリをimportして使用します"
      ],
      "metadata": {
        "id": "mg9i792VBT6L"
      }
    },
    {
      "cell_type": "code",
      "source": [
        "# 以下のように記載することでtqdmを使えるようにします\n",
        "# from tqdm import tqdm\n",
        "# for文を以下のように書き換えてみましょう\n",
        "# for i in tqdm(range(num)):\n",
        "\n"
      ],
      "metadata": {
        "id": "iSYuCUfeBmJW"
      },
      "execution_count": 3,
      "outputs": []
    }
  ]
}