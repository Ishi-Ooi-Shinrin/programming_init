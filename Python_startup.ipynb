{
  "nbformat": 4,
  "nbformat_minor": 0,
  "metadata": {
    "colab": {
      "name": "Python_startup.ipynb",
      "provenance": [],
      "collapsed_sections": [],
      "include_colab_link": true
    },
    "kernelspec": {
      "name": "python3",
      "display_name": "Python 3"
    },
    "language_info": {
      "name": "python"
    }
  },
  "cells": [
    {
      "cell_type": "markdown",
      "metadata": {
        "id": "view-in-github",
        "colab_type": "text"
      },
      "source": [
        "<a href=\"https://colab.research.google.com/github/knj-wkwk/programming_init/blob/main/Python_startup.ipynb\" target=\"_parent\"><img src=\"https://colab.research.google.com/assets/colab-badge.svg\" alt=\"Open In Colab\"/></a>"
      ]
    },
    {
      "cell_type": "markdown",
      "source": [
        "## Colabの使い方\n",
        "## Python入門\n",
        "## 実用的な？？？？？"
      ],
      "metadata": {
        "id": "Y1o9TGVb6UbG"
      }
    },
    {
      "cell_type": "markdown",
      "source": [
        "# Chaper02 Python基本文法"
      ],
      "metadata": {
        "id": "PXh1no2a_kij"
      }
    },
    {
      "cell_type": "markdown",
      "source": [
        "### HelloWord"
      ],
      "metadata": {
        "id": "DSLYq0TgDsK1"
      }
    },
    {
      "cell_type": "code",
      "source": [
        ""
      ],
      "metadata": {
        "id": "IgMgd8pDDvk4"
      },
      "execution_count": null,
      "outputs": []
    },
    {
      "cell_type": "markdown",
      "source": [
        "### 四則演算"
      ],
      "metadata": {
        "id": "suRHLkSQAVPH"
      }
    },
    {
      "cell_type": "code",
      "execution_count": null,
      "metadata": {
        "id": "fYgyKz7N5qtN"
      },
      "outputs": [],
      "source": [
        ""
      ]
    },
    {
      "cell_type": "markdown",
      "source": [
        "## 関数"
      ],
      "metadata": {
        "id": "8a_s5GIN_oC-"
      }
    },
    {
      "cell_type": "code",
      "source": [
        ""
      ],
      "metadata": {
        "id": "aSEOxfOr6Rld"
      },
      "execution_count": null,
      "outputs": []
    },
    {
      "cell_type": "markdown",
      "source": [
        "### 制御構文"
      ],
      "metadata": {
        "id": "tQtVfDOlAg2a"
      }
    },
    {
      "cell_type": "code",
      "source": [
        ""
      ],
      "metadata": {
        "id": "ICjbYyldAi9R"
      },
      "execution_count": null,
      "outputs": []
    },
    {
      "cell_type": "markdown",
      "source": [
        "### ライブラリの使用"
      ],
      "metadata": {
        "id": "3E1SaopSAfw_"
      }
    },
    {
      "cell_type": "code",
      "source": [
        ""
      ],
      "metadata": {
        "id": "MZi2-FOk6Rgh"
      },
      "execution_count": null,
      "outputs": []
    },
    {
      "cell_type": "markdown",
      "source": [
        "### やってみよう！\n",
        "ロケット発射関数の作成"
      ],
      "metadata": {
        "id": "_CI8fHRDAzMJ"
      }
    },
    {
      "cell_type": "code",
      "source": [
        "def rocket():\n",
        "  for i in range(10):\n",
        "    print(i)\n",
        "    if i == 9:\n",
        "      print(\"ignition\")\n",
        "\n",
        "rocket()"
      ],
      "metadata": {
        "colab": {
          "base_uri": "https://localhost:8080/"
        },
        "id": "yQtchQOU6Rd_",
        "outputId": "125e7e1d-6882-4af8-f816-e289e55d47e8"
      },
      "execution_count": null,
      "outputs": [
        {
          "output_type": "stream",
          "name": "stdout",
          "text": [
            "0\n",
            "1\n",
            "2\n",
            "3\n",
            "4\n",
            "5\n",
            "6\n",
            "7\n",
            "8\n",
            "9\n",
            "ignition\n"
          ]
        }
      ]
    },
    {
      "cell_type": "code",
      "source": [
        "def rocket(num):\n",
        "  for i in range(num, 0, -1): # start, end , step\n",
        "    print(i)\n",
        "    if i == 1:\n",
        "      print(\"ignition\")\n",
        "     \n",
        "rocket(10)"
      ],
      "metadata": {
        "colab": {
          "base_uri": "https://localhost:8080/"
        },
        "id": "Glez_GKK6RbH",
        "outputId": "82615d57-d6b1-4544-fe11-da616cc9fb5e"
      },
      "execution_count": null,
      "outputs": [
        {
          "output_type": "stream",
          "name": "stdout",
          "text": [
            "10\n",
            "9\n",
            "8\n",
            "7\n",
            "6\n",
            "5\n",
            "4\n",
            "3\n",
            "2\n",
            "1\n",
            "ignition\n"
          ]
        }
      ]
    },
    {
      "cell_type": "code",
      "source": [
        "from tqdm import tqdm\n",
        "import time \n",
        "\n",
        "def rocket(num, word=\"word\"):\n",
        "  for i in tqdm(range(num)):\n",
        "    time.sleep(1)\n",
        "    if i == num-1:\n",
        "      print(f\"\\n{word}\")\n",
        "\n",
        "rocket(10, \"go!!\")"
      ],
      "metadata": {
        "colab": {
          "base_uri": "https://localhost:8080/"
        },
        "id": "qoZlMClwBaeW",
        "outputId": "0c4c8086-ad67-4bf0-a0f4-8391849083a8"
      },
      "execution_count": null,
      "outputs": [
        {
          "output_type": "stream",
          "name": "stderr",
          "text": [
            "100%|██████████| 10/10 [00:10<00:00,  1.00s/it]"
          ]
        },
        {
          "output_type": "stream",
          "name": "stdout",
          "text": [
            "\n",
            "go!!\n"
          ]
        },
        {
          "output_type": "stream",
          "name": "stderr",
          "text": [
            "\n"
          ]
        }
      ]
    },
    {
      "cell_type": "markdown",
      "source": [
        ""
      ],
      "metadata": {
        "id": "c1280YFwBZr4"
      }
    }
  ]
}